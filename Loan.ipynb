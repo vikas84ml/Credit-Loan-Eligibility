{
  "nbformat": 4,
  "nbformat_minor": 0,
  "metadata": {
    "colab": {
      "name": "Loan.ipynb",
      "provenance": []
    },
    "kernelspec": {
      "name": "python3",
      "display_name": "Python 3"
    },
    "accelerator": "GPU"
  },
  "cells": [
    {
      "cell_type": "code",
      "metadata": {
        "id": "Vdmlt7R8kcWl",
        "colab_type": "code",
        "colab": {
          "base_uri": "https://localhost:8080/",
          "height": 124
        },
        "outputId": "3b648e39-076b-4218-9c23-348f31dfb9a6"
      },
      "source": [
        "from google.colab import drive\n",
        "drive.mount('/content/drive')"
      ],
      "execution_count": 1,
      "outputs": [
        {
          "output_type": "stream",
          "text": [
            "Go to this URL in a browser: https://accounts.google.com/o/oauth2/auth?client_id=947318989803-6bn6qk8qdgf4n4g3pfee6491hc0brc4i.apps.googleusercontent.com&redirect_uri=urn%3aietf%3awg%3aoauth%3a2.0%3aoob&response_type=code&scope=email%20https%3a%2f%2fwww.googleapis.com%2fauth%2fdocs.test%20https%3a%2f%2fwww.googleapis.com%2fauth%2fdrive%20https%3a%2f%2fwww.googleapis.com%2fauth%2fdrive.photos.readonly%20https%3a%2f%2fwww.googleapis.com%2fauth%2fpeopleapi.readonly\n",
            "\n",
            "Enter your authorization code:\n",
            "··········\n",
            "Mounted at /content/drive\n"
          ],
          "name": "stdout"
        }
      ]
    },
    {
      "cell_type": "code",
      "metadata": {
        "id": "jXjM1G_SkqhY",
        "colab_type": "code",
        "colab": {
          "base_uri": "https://localhost:8080/",
          "height": 34
        },
        "outputId": "a42aea57-6fb1-4da7-9400-0819bee1fd9b"
      },
      "source": [
        "print('Importing packages...')\n",
        "from datetime import datetime\n",
        "import numpy as np\n",
        "import pandas as pd\n",
        "import xgboost\n",
        "from sklearn.metrics import accuracy_score\n",
        "from sklearn.metrics import auc\n",
        "from sklearn.metrics import roc_auc_score\n",
        "from sklearn.model_selection import train_test_split"
      ],
      "execution_count": 51,
      "outputs": [
        {
          "output_type": "stream",
          "text": [
            "Importing packages...\n"
          ],
          "name": "stdout"
        }
      ]
    },
    {
      "cell_type": "code",
      "metadata": {
        "id": "MhDG-H78lmJt",
        "colab_type": "code",
        "colab": {}
      },
      "source": [
        "data=pd.read_csv(\"/content/drive/My Drive/train_split.csv\")"
      ],
      "execution_count": 0,
      "outputs": []
    },
    {
      "cell_type": "code",
      "metadata": {
        "id": "CVqltuYGlxf2",
        "colab_type": "code",
        "colab": {
          "base_uri": "https://localhost:8080/",
          "height": 800
        },
        "outputId": "41248f33-ced7-44e5-ff89-fb76684b3f6b"
      },
      "source": [
        "data.head(10)"
      ],
      "execution_count": 6,
      "outputs": [
        {
          "output_type": "execute_result",
          "data": {
            "text/html": [
              "<div>\n",
              "<style scoped>\n",
              "    .dataframe tbody tr th:only-of-type {\n",
              "        vertical-align: middle;\n",
              "    }\n",
              "\n",
              "    .dataframe tbody tr th {\n",
              "        vertical-align: top;\n",
              "    }\n",
              "\n",
              "    .dataframe thead th {\n",
              "        text-align: right;\n",
              "    }\n",
              "</style>\n",
              "<table border=\"1\" class=\"dataframe\">\n",
              "  <thead>\n",
              "    <tr style=\"text-align: right;\">\n",
              "      <th></th>\n",
              "      <th>member_id</th>\n",
              "      <th>loan_amnt</th>\n",
              "      <th>funded_amnt</th>\n",
              "      <th>funded_amnt_inv</th>\n",
              "      <th>term</th>\n",
              "      <th>batch_enrolled</th>\n",
              "      <th>int_rate</th>\n",
              "      <th>grade</th>\n",
              "      <th>sub_grade</th>\n",
              "      <th>emp_title</th>\n",
              "      <th>emp_length</th>\n",
              "      <th>home_ownership</th>\n",
              "      <th>annual_inc</th>\n",
              "      <th>verification_status</th>\n",
              "      <th>pymnt_plan</th>\n",
              "      <th>desc</th>\n",
              "      <th>purpose</th>\n",
              "      <th>title</th>\n",
              "      <th>zip_code</th>\n",
              "      <th>addr_state</th>\n",
              "      <th>dti</th>\n",
              "      <th>delinq_2yrs</th>\n",
              "      <th>inq_last_6mths</th>\n",
              "      <th>mths_since_last_delinq</th>\n",
              "      <th>mths_since_last_record</th>\n",
              "      <th>open_acc</th>\n",
              "      <th>pub_rec</th>\n",
              "      <th>revol_bal</th>\n",
              "      <th>revol_util</th>\n",
              "      <th>total_acc</th>\n",
              "      <th>initial_list_status</th>\n",
              "      <th>total_rec_int</th>\n",
              "      <th>total_rec_late_fee</th>\n",
              "      <th>recoveries</th>\n",
              "      <th>collection_recovery_fee</th>\n",
              "      <th>collections_12_mths_ex_med</th>\n",
              "      <th>mths_since_last_major_derog</th>\n",
              "      <th>application_type</th>\n",
              "      <th>verification_status_joint</th>\n",
              "      <th>last_week_pay</th>\n",
              "      <th>acc_now_delinq</th>\n",
              "      <th>tot_coll_amt</th>\n",
              "      <th>tot_cur_bal</th>\n",
              "      <th>total_rev_hi_lim</th>\n",
              "      <th>loan_status</th>\n",
              "    </tr>\n",
              "  </thead>\n",
              "  <tbody>\n",
              "    <tr>\n",
              "      <th>0</th>\n",
              "      <td>58189336</td>\n",
              "      <td>14350</td>\n",
              "      <td>14350</td>\n",
              "      <td>14350.0</td>\n",
              "      <td>36 months</td>\n",
              "      <td></td>\n",
              "      <td>19.19</td>\n",
              "      <td>E</td>\n",
              "      <td>E3</td>\n",
              "      <td>clerk</td>\n",
              "      <td>9 years</td>\n",
              "      <td>OWN</td>\n",
              "      <td>28700.0</td>\n",
              "      <td>Source Verified</td>\n",
              "      <td>n</td>\n",
              "      <td>NaN</td>\n",
              "      <td>debt_consolidation</td>\n",
              "      <td>Debt consolidation</td>\n",
              "      <td>349xx</td>\n",
              "      <td>FL</td>\n",
              "      <td>33.88</td>\n",
              "      <td>0</td>\n",
              "      <td>1</td>\n",
              "      <td>50.0</td>\n",
              "      <td>75.0</td>\n",
              "      <td>14</td>\n",
              "      <td>1</td>\n",
              "      <td>22515</td>\n",
              "      <td>73.1</td>\n",
              "      <td>28</td>\n",
              "      <td>f</td>\n",
              "      <td>1173.84</td>\n",
              "      <td>0.0</td>\n",
              "      <td>0.0</td>\n",
              "      <td>0.0</td>\n",
              "      <td>0.0</td>\n",
              "      <td>74.0</td>\n",
              "      <td>INDIVIDUAL</td>\n",
              "      <td>NaN</td>\n",
              "      <td>26th week</td>\n",
              "      <td>0</td>\n",
              "      <td>0.0</td>\n",
              "      <td>28699.0</td>\n",
              "      <td>30800.0</td>\n",
              "      <td>0</td>\n",
              "    </tr>\n",
              "    <tr>\n",
              "      <th>1</th>\n",
              "      <td>70011223</td>\n",
              "      <td>4800</td>\n",
              "      <td>4800</td>\n",
              "      <td>4800.0</td>\n",
              "      <td>36 months</td>\n",
              "      <td>BAT1586599</td>\n",
              "      <td>10.99</td>\n",
              "      <td>B</td>\n",
              "      <td>B4</td>\n",
              "      <td>Human Resources Specialist</td>\n",
              "      <td>&lt; 1 year</td>\n",
              "      <td>MORTGAGE</td>\n",
              "      <td>65000.0</td>\n",
              "      <td>Source Verified</td>\n",
              "      <td>n</td>\n",
              "      <td>NaN</td>\n",
              "      <td>home_improvement</td>\n",
              "      <td>Home improvement</td>\n",
              "      <td>209xx</td>\n",
              "      <td>MD</td>\n",
              "      <td>3.64</td>\n",
              "      <td>0</td>\n",
              "      <td>1</td>\n",
              "      <td>NaN</td>\n",
              "      <td>NaN</td>\n",
              "      <td>6</td>\n",
              "      <td>0</td>\n",
              "      <td>7624</td>\n",
              "      <td>23.2</td>\n",
              "      <td>13</td>\n",
              "      <td>w</td>\n",
              "      <td>83.95</td>\n",
              "      <td>0.0</td>\n",
              "      <td>0.0</td>\n",
              "      <td>0.0</td>\n",
              "      <td>0.0</td>\n",
              "      <td>NaN</td>\n",
              "      <td>INDIVIDUAL</td>\n",
              "      <td>NaN</td>\n",
              "      <td>9th week</td>\n",
              "      <td>0</td>\n",
              "      <td>0.0</td>\n",
              "      <td>9974.0</td>\n",
              "      <td>32900.0</td>\n",
              "      <td>0</td>\n",
              "    </tr>\n",
              "    <tr>\n",
              "      <th>2</th>\n",
              "      <td>70255675</td>\n",
              "      <td>10000</td>\n",
              "      <td>10000</td>\n",
              "      <td>10000.0</td>\n",
              "      <td>36 months</td>\n",
              "      <td>BAT1586599</td>\n",
              "      <td>7.26</td>\n",
              "      <td>A</td>\n",
              "      <td>A4</td>\n",
              "      <td>Driver</td>\n",
              "      <td>2 years</td>\n",
              "      <td>OWN</td>\n",
              "      <td>45000.0</td>\n",
              "      <td>Not Verified</td>\n",
              "      <td>n</td>\n",
              "      <td>NaN</td>\n",
              "      <td>debt_consolidation</td>\n",
              "      <td>Debt consolidation</td>\n",
              "      <td>447xx</td>\n",
              "      <td>OH</td>\n",
              "      <td>18.42</td>\n",
              "      <td>0</td>\n",
              "      <td>0</td>\n",
              "      <td>NaN</td>\n",
              "      <td>NaN</td>\n",
              "      <td>5</td>\n",
              "      <td>0</td>\n",
              "      <td>10877</td>\n",
              "      <td>31.2</td>\n",
              "      <td>19</td>\n",
              "      <td>w</td>\n",
              "      <td>56.47</td>\n",
              "      <td>0.0</td>\n",
              "      <td>0.0</td>\n",
              "      <td>0.0</td>\n",
              "      <td>0.0</td>\n",
              "      <td>NaN</td>\n",
              "      <td>INDIVIDUAL</td>\n",
              "      <td>NaN</td>\n",
              "      <td>9th week</td>\n",
              "      <td>0</td>\n",
              "      <td>65.0</td>\n",
              "      <td>38295.0</td>\n",
              "      <td>34900.0</td>\n",
              "      <td>0</td>\n",
              "    </tr>\n",
              "    <tr>\n",
              "      <th>3</th>\n",
              "      <td>1893936</td>\n",
              "      <td>15000</td>\n",
              "      <td>15000</td>\n",
              "      <td>15000.0</td>\n",
              "      <td>36 months</td>\n",
              "      <td>BAT4808022</td>\n",
              "      <td>19.72</td>\n",
              "      <td>D</td>\n",
              "      <td>D5</td>\n",
              "      <td>Us office of Personnel Management</td>\n",
              "      <td>10+ years</td>\n",
              "      <td>RENT</td>\n",
              "      <td>105000.0</td>\n",
              "      <td>Not Verified</td>\n",
              "      <td>n</td>\n",
              "      <td>&gt; My goal is to obtain a loan to pay off my hi...</td>\n",
              "      <td>debt_consolidation</td>\n",
              "      <td>Debt consolidation</td>\n",
              "      <td>221xx</td>\n",
              "      <td>VA</td>\n",
              "      <td>14.97</td>\n",
              "      <td>0</td>\n",
              "      <td>2</td>\n",
              "      <td>46.0</td>\n",
              "      <td>NaN</td>\n",
              "      <td>10</td>\n",
              "      <td>0</td>\n",
              "      <td>13712</td>\n",
              "      <td>55.5</td>\n",
              "      <td>21</td>\n",
              "      <td>f</td>\n",
              "      <td>4858.62</td>\n",
              "      <td>0.0</td>\n",
              "      <td>0.0</td>\n",
              "      <td>0.0</td>\n",
              "      <td>0.0</td>\n",
              "      <td>NaN</td>\n",
              "      <td>INDIVIDUAL</td>\n",
              "      <td>NaN</td>\n",
              "      <td>135th week</td>\n",
              "      <td>0</td>\n",
              "      <td>0.0</td>\n",
              "      <td>55564.0</td>\n",
              "      <td>24700.0</td>\n",
              "      <td>0</td>\n",
              "    </tr>\n",
              "    <tr>\n",
              "      <th>4</th>\n",
              "      <td>7652106</td>\n",
              "      <td>16000</td>\n",
              "      <td>16000</td>\n",
              "      <td>16000.0</td>\n",
              "      <td>36 months</td>\n",
              "      <td>BAT2833642</td>\n",
              "      <td>10.64</td>\n",
              "      <td>B</td>\n",
              "      <td>B2</td>\n",
              "      <td>LAUSD-HOLLYWOOD HIGH SCHOOL</td>\n",
              "      <td>10+ years</td>\n",
              "      <td>RENT</td>\n",
              "      <td>52000.0</td>\n",
              "      <td>Verified</td>\n",
              "      <td>n</td>\n",
              "      <td>NaN</td>\n",
              "      <td>credit_card</td>\n",
              "      <td>refi</td>\n",
              "      <td>900xx</td>\n",
              "      <td>CA</td>\n",
              "      <td>20.16</td>\n",
              "      <td>0</td>\n",
              "      <td>0</td>\n",
              "      <td>NaN</td>\n",
              "      <td>NaN</td>\n",
              "      <td>11</td>\n",
              "      <td>0</td>\n",
              "      <td>35835</td>\n",
              "      <td>76.2</td>\n",
              "      <td>27</td>\n",
              "      <td>w</td>\n",
              "      <td>2296.41</td>\n",
              "      <td>0.0</td>\n",
              "      <td>0.0</td>\n",
              "      <td>0.0</td>\n",
              "      <td>0.0</td>\n",
              "      <td>NaN</td>\n",
              "      <td>INDIVIDUAL</td>\n",
              "      <td>NaN</td>\n",
              "      <td>96th week</td>\n",
              "      <td>0</td>\n",
              "      <td>0.0</td>\n",
              "      <td>47159.0</td>\n",
              "      <td>47033.0</td>\n",
              "      <td>0</td>\n",
              "    </tr>\n",
              "    <tr>\n",
              "      <th>5</th>\n",
              "      <td>10247268</td>\n",
              "      <td>15000</td>\n",
              "      <td>15000</td>\n",
              "      <td>14950.0</td>\n",
              "      <td>36 months</td>\n",
              "      <td>BAT2575549</td>\n",
              "      <td>8.90</td>\n",
              "      <td>A</td>\n",
              "      <td>A5</td>\n",
              "      <td>Design Consultant</td>\n",
              "      <td>2 years</td>\n",
              "      <td>MORTGAGE</td>\n",
              "      <td>120000.0</td>\n",
              "      <td>Not Verified</td>\n",
              "      <td>n</td>\n",
              "      <td>&gt; We are requesting this loan to help re-or...</td>\n",
              "      <td>debt_consolidation</td>\n",
              "      <td>Credit Card Debt Consolidation</td>\n",
              "      <td>461xx</td>\n",
              "      <td>IN</td>\n",
              "      <td>12.30</td>\n",
              "      <td>0</td>\n",
              "      <td>0</td>\n",
              "      <td>56.0</td>\n",
              "      <td>NaN</td>\n",
              "      <td>18</td>\n",
              "      <td>0</td>\n",
              "      <td>19040</td>\n",
              "      <td>64.5</td>\n",
              "      <td>30</td>\n",
              "      <td>f</td>\n",
              "      <td>1957.24</td>\n",
              "      <td>0.0</td>\n",
              "      <td>0.0</td>\n",
              "      <td>0.0</td>\n",
              "      <td>0.0</td>\n",
              "      <td>NaN</td>\n",
              "      <td>INDIVIDUAL</td>\n",
              "      <td>NaN</td>\n",
              "      <td>113th week</td>\n",
              "      <td>0</td>\n",
              "      <td>0.0</td>\n",
              "      <td>350619.0</td>\n",
              "      <td>29500.0</td>\n",
              "      <td>0</td>\n",
              "    </tr>\n",
              "    <tr>\n",
              "      <th>6</th>\n",
              "      <td>8089625</td>\n",
              "      <td>5000</td>\n",
              "      <td>5000</td>\n",
              "      <td>4975.0</td>\n",
              "      <td>36 months</td>\n",
              "      <td></td>\n",
              "      <td>7.90</td>\n",
              "      <td>A</td>\n",
              "      <td>A4</td>\n",
              "      <td>TOYOTA OF NORTH HOLLYWOOD</td>\n",
              "      <td>5 years</td>\n",
              "      <td>RENT</td>\n",
              "      <td>75000.0</td>\n",
              "      <td>Source Verified</td>\n",
              "      <td>n</td>\n",
              "      <td>&gt; Funds will be used to pay off a debt. I am a...</td>\n",
              "      <td>debt_consolidation</td>\n",
              "      <td>PAY THEM OFF</td>\n",
              "      <td>913xx</td>\n",
              "      <td>CA</td>\n",
              "      <td>5.70</td>\n",
              "      <td>0</td>\n",
              "      <td>0</td>\n",
              "      <td>NaN</td>\n",
              "      <td>105.0</td>\n",
              "      <td>13</td>\n",
              "      <td>2</td>\n",
              "      <td>13272</td>\n",
              "      <td>23.9</td>\n",
              "      <td>23</td>\n",
              "      <td>f</td>\n",
              "      <td>578.36</td>\n",
              "      <td>0.0</td>\n",
              "      <td>0.0</td>\n",
              "      <td>0.0</td>\n",
              "      <td>0.0</td>\n",
              "      <td>NaN</td>\n",
              "      <td>INDIVIDUAL</td>\n",
              "      <td>NaN</td>\n",
              "      <td>117th week</td>\n",
              "      <td>0</td>\n",
              "      <td>1023.0</td>\n",
              "      <td>13272.0</td>\n",
              "      <td>55500.0</td>\n",
              "      <td>1</td>\n",
              "    </tr>\n",
              "    <tr>\n",
              "      <th>7</th>\n",
              "      <td>23043116</td>\n",
              "      <td>6000</td>\n",
              "      <td>6000</td>\n",
              "      <td>6000.0</td>\n",
              "      <td>36 months</td>\n",
              "      <td>NaN</td>\n",
              "      <td>9.17</td>\n",
              "      <td>B</td>\n",
              "      <td>B1</td>\n",
              "      <td>Banker</td>\n",
              "      <td>8 years</td>\n",
              "      <td>MORTGAGE</td>\n",
              "      <td>54000.0</td>\n",
              "      <td>Not Verified</td>\n",
              "      <td>n</td>\n",
              "      <td>NaN</td>\n",
              "      <td>credit_card</td>\n",
              "      <td>Credit card refinancing</td>\n",
              "      <td>351xx</td>\n",
              "      <td>AL</td>\n",
              "      <td>11.63</td>\n",
              "      <td>0</td>\n",
              "      <td>1</td>\n",
              "      <td>46.0</td>\n",
              "      <td>NaN</td>\n",
              "      <td>13</td>\n",
              "      <td>0</td>\n",
              "      <td>3484</td>\n",
              "      <td>29.5</td>\n",
              "      <td>49</td>\n",
              "      <td>f</td>\n",
              "      <td>637.51</td>\n",
              "      <td>0.0</td>\n",
              "      <td>0.0</td>\n",
              "      <td>0.0</td>\n",
              "      <td>0.0</td>\n",
              "      <td>54.0</td>\n",
              "      <td>INDIVIDUAL</td>\n",
              "      <td>NaN</td>\n",
              "      <td>78th week</td>\n",
              "      <td>0</td>\n",
              "      <td>0.0</td>\n",
              "      <td>272579.0</td>\n",
              "      <td>11800.0</td>\n",
              "      <td>0</td>\n",
              "    </tr>\n",
              "    <tr>\n",
              "      <th>8</th>\n",
              "      <td>45900933</td>\n",
              "      <td>6000</td>\n",
              "      <td>6000</td>\n",
              "      <td>6000.0</td>\n",
              "      <td>36 months</td>\n",
              "      <td>BAT4136152</td>\n",
              "      <td>13.99</td>\n",
              "      <td>C</td>\n",
              "      <td>C4</td>\n",
              "      <td>LVN</td>\n",
              "      <td>7 years</td>\n",
              "      <td>MORTGAGE</td>\n",
              "      <td>92000.0</td>\n",
              "      <td>Not Verified</td>\n",
              "      <td>n</td>\n",
              "      <td>NaN</td>\n",
              "      <td>home_improvement</td>\n",
              "      <td>Home improvement</td>\n",
              "      <td>917xx</td>\n",
              "      <td>CA</td>\n",
              "      <td>30.85</td>\n",
              "      <td>0</td>\n",
              "      <td>0</td>\n",
              "      <td>77.0</td>\n",
              "      <td>NaN</td>\n",
              "      <td>16</td>\n",
              "      <td>0</td>\n",
              "      <td>47567</td>\n",
              "      <td>76.6</td>\n",
              "      <td>27</td>\n",
              "      <td>w</td>\n",
              "      <td>621.72</td>\n",
              "      <td>0.0</td>\n",
              "      <td>0.0</td>\n",
              "      <td>0.0</td>\n",
              "      <td>0.0</td>\n",
              "      <td>NaN</td>\n",
              "      <td>INDIVIDUAL</td>\n",
              "      <td>NaN</td>\n",
              "      <td>44th week</td>\n",
              "      <td>0</td>\n",
              "      <td>0.0</td>\n",
              "      <td>281521.0</td>\n",
              "      <td>62100.0</td>\n",
              "      <td>0</td>\n",
              "    </tr>\n",
              "    <tr>\n",
              "      <th>9</th>\n",
              "      <td>41272507</td>\n",
              "      <td>34550</td>\n",
              "      <td>34550</td>\n",
              "      <td>34550.0</td>\n",
              "      <td>60 months</td>\n",
              "      <td>BAT4694572</td>\n",
              "      <td>17.14</td>\n",
              "      <td>D</td>\n",
              "      <td>D4</td>\n",
              "      <td>Registered Nurse</td>\n",
              "      <td>2 years</td>\n",
              "      <td>MORTGAGE</td>\n",
              "      <td>72000.0</td>\n",
              "      <td>Verified</td>\n",
              "      <td>n</td>\n",
              "      <td>NaN</td>\n",
              "      <td>debt_consolidation</td>\n",
              "      <td>Debt consolidation</td>\n",
              "      <td>427xx</td>\n",
              "      <td>KY</td>\n",
              "      <td>33.92</td>\n",
              "      <td>0</td>\n",
              "      <td>0</td>\n",
              "      <td>NaN</td>\n",
              "      <td>NaN</td>\n",
              "      <td>12</td>\n",
              "      <td>0</td>\n",
              "      <td>30040</td>\n",
              "      <td>90.5</td>\n",
              "      <td>30</td>\n",
              "      <td>w</td>\n",
              "      <td>5535.46</td>\n",
              "      <td>0.0</td>\n",
              "      <td>0.0</td>\n",
              "      <td>0.0</td>\n",
              "      <td>0.0</td>\n",
              "      <td>NaN</td>\n",
              "      <td>INDIVIDUAL</td>\n",
              "      <td>NaN</td>\n",
              "      <td>52th week</td>\n",
              "      <td>0</td>\n",
              "      <td>0.0</td>\n",
              "      <td>76034.0</td>\n",
              "      <td>33200.0</td>\n",
              "      <td>0</td>\n",
              "    </tr>\n",
              "  </tbody>\n",
              "</table>\n",
              "</div>"
            ],
            "text/plain": [
              "   member_id  loan_amnt  ...  total_rev_hi_lim  loan_status\n",
              "0   58189336      14350  ...           30800.0            0\n",
              "1   70011223       4800  ...           32900.0            0\n",
              "2   70255675      10000  ...           34900.0            0\n",
              "3    1893936      15000  ...           24700.0            0\n",
              "4    7652106      16000  ...           47033.0            0\n",
              "5   10247268      15000  ...           29500.0            0\n",
              "6    8089625       5000  ...           55500.0            1\n",
              "7   23043116       6000  ...           11800.0            0\n",
              "8   45900933       6000  ...           62100.0            0\n",
              "9   41272507      34550  ...           33200.0            0\n",
              "\n",
              "[10 rows x 45 columns]"
            ]
          },
          "metadata": {
            "tags": []
          },
          "execution_count": 6
        }
      ]
    },
    {
      "cell_type": "code",
      "metadata": {
        "id": "mBsDnPZrmItp",
        "colab_type": "code",
        "colab": {
          "base_uri": "https://localhost:8080/",
          "height": 34
        },
        "outputId": "d371d809-cb78-457e-869f-4cf13fed87b2"
      },
      "source": [
        "data.shape"
      ],
      "execution_count": 9,
      "outputs": [
        {
          "output_type": "execute_result",
          "data": {
            "text/plain": [
              "(63999, 45)"
            ]
          },
          "metadata": {
            "tags": []
          },
          "execution_count": 9
        }
      ]
    },
    {
      "cell_type": "code",
      "metadata": {
        "id": "-924Onwpl0Fk",
        "colab_type": "code",
        "colab": {
          "base_uri": "https://localhost:8080/",
          "height": 816
        },
        "outputId": "b8a815c2-9f05-4c90-f02e-7666ec0d824d"
      },
      "source": [
        "data.iloc[0]"
      ],
      "execution_count": 7,
      "outputs": [
        {
          "output_type": "execute_result",
          "data": {
            "text/plain": [
              "member_id                                58189336\n",
              "loan_amnt                                   14350\n",
              "funded_amnt                                 14350\n",
              "funded_amnt_inv                             14350\n",
              "term                                    36 months\n",
              "batch_enrolled                                   \n",
              "int_rate                                    19.19\n",
              "grade                                           E\n",
              "sub_grade                                      E3\n",
              "emp_title                                   clerk\n",
              "emp_length                                9 years\n",
              "home_ownership                                OWN\n",
              "annual_inc                                  28700\n",
              "verification_status               Source Verified\n",
              "pymnt_plan                                      n\n",
              "desc                                          NaN\n",
              "purpose                        debt_consolidation\n",
              "title                          Debt consolidation\n",
              "zip_code                                    349xx\n",
              "addr_state                                     FL\n",
              "dti                                         33.88\n",
              "delinq_2yrs                                     0\n",
              "inq_last_6mths                                  1\n",
              "mths_since_last_delinq                         50\n",
              "mths_since_last_record                         75\n",
              "open_acc                                       14\n",
              "pub_rec                                         1\n",
              "revol_bal                                   22515\n",
              "revol_util                                   73.1\n",
              "total_acc                                      28\n",
              "initial_list_status                             f\n",
              "total_rec_int                             1173.84\n",
              "total_rec_late_fee                              0\n",
              "recoveries                                      0\n",
              "collection_recovery_fee                         0\n",
              "collections_12_mths_ex_med                      0\n",
              "mths_since_last_major_derog                    74\n",
              "application_type                       INDIVIDUAL\n",
              "verification_status_joint                     NaN\n",
              "last_week_pay                           26th week\n",
              "acc_now_delinq                                  0\n",
              "tot_coll_amt                                    0\n",
              "tot_cur_bal                                 28699\n",
              "total_rev_hi_lim                            30800\n",
              "loan_status                                     0\n",
              "Name: 0, dtype: object"
            ]
          },
          "metadata": {
            "tags": []
          },
          "execution_count": 7
        }
      ]
    },
    {
      "cell_type": "code",
      "metadata": {
        "id": "Qrs0bG8esFWA",
        "colab_type": "code",
        "colab": {
          "base_uri": "https://localhost:8080/",
          "height": 225
        },
        "outputId": "f8c1fe87-9635-4b4c-83a1-0c058a34531d"
      },
      "source": [
        "data.columns"
      ],
      "execution_count": 27,
      "outputs": [
        {
          "output_type": "execute_result",
          "data": {
            "text/plain": [
              "Index(['member_id', 'loan_amnt', 'funded_amnt', 'funded_amnt_inv', 'term',\n",
              "       'int_rate', 'grade', 'sub_grade', 'emp_title', 'emp_length',\n",
              "       'home_ownership', 'annual_inc', 'verification_status', 'pymnt_plan',\n",
              "       'purpose', 'title', 'addr_state', 'dti', 'delinq_2yrs',\n",
              "       'inq_last_6mths', 'mths_since_last_delinq', 'mths_since_last_record',\n",
              "       'open_acc', 'pub_rec', 'revol_bal', 'revol_util', 'total_acc',\n",
              "       'initial_list_status', 'total_rec_int', 'total_rec_late_fee',\n",
              "       'recoveries', 'collection_recovery_fee', 'collections_12_mths_ex_med',\n",
              "       'mths_since_last_major_derog', 'application_type',\n",
              "       'verification_status_joint', 'last_week_pay', 'acc_now_delinq',\n",
              "       'tot_coll_amt', 'tot_cur_bal', 'total_rev_hi_lim', 'loan_status'],\n",
              "      dtype='object')"
            ]
          },
          "metadata": {
            "tags": []
          },
          "execution_count": 27
        }
      ]
    },
    {
      "cell_type": "code",
      "metadata": {
        "id": "7q5nsOPzsLLo",
        "colab_type": "code",
        "colab": {}
      },
      "source": [
        "dfTrain=data[['member_id', 'loan_amnt', 'funded_amnt', 'funded_amnt_inv', 'term',\n",
        "       'int_rate', 'grade', 'sub_grade', 'emp_title', 'emp_length',\n",
        "       'home_ownership', 'annual_inc', 'verification_status', 'pymnt_plan',\n",
        "       'purpose', 'title', 'addr_state', 'dti', 'delinq_2yrs',\n",
        "       'inq_last_6mths', 'mths_since_last_delinq', 'mths_since_last_record',\n",
        "       'open_acc', 'pub_rec', 'revol_bal', 'revol_util', 'total_acc',\n",
        "       'initial_list_status', 'total_rec_int', 'total_rec_late_fee',\n",
        "       'recoveries', 'collection_recovery_fee', 'collections_12_mths_ex_med',\n",
        "       'mths_since_last_major_derog', 'application_type',\n",
        "       'verification_status_joint', 'last_week_pay', 'acc_now_delinq',\n",
        "       'tot_coll_amt', 'tot_cur_bal', 'total_rev_hi_lim', 'loan_status']]"
      ],
      "execution_count": 0,
      "outputs": []
    },
    {
      "cell_type": "code",
      "metadata": {
        "id": "l-KQQK_asYPp",
        "colab_type": "code",
        "colab": {
          "base_uri": "https://localhost:8080/",
          "height": 34
        },
        "outputId": "f403e1c0-b2e8-420c-bc0c-c4fa29c1c434"
      },
      "source": [
        "print('Transform: term...')\n",
        "dfTrain['term'].replace(to_replace=' months', value='', regex=True, inplace=True)\n",
        "dfTrain['term'] = pd.to_numeric(dfTrain['term'], errors='coerce')\n"
      ],
      "execution_count": 29,
      "outputs": [
        {
          "output_type": "stream",
          "text": [
            "Transform: term...\n"
          ],
          "name": "stdout"
        }
      ]
    },
    {
      "cell_type": "code",
      "metadata": {
        "id": "WpdCQ95Jsnaq",
        "colab_type": "code",
        "colab": {
          "base_uri": "https://localhost:8080/",
          "height": 34
        },
        "outputId": "fb74ea0c-32ee-481e-89e9-fb63fe94e00f"
      },
      "source": [
        "print('Transform: emp_length...')\n",
        "dfTrain['emp_length'].replace('n/a', '0', inplace=True)\n",
        "dfTrain['emp_length'].replace(to_replace='\\+ years', value='', regex=True, inplace=True)\n",
        "dfTrain['emp_length'].replace(to_replace=' years', value='', regex=True, inplace=True)\n",
        "dfTrain['emp_length'].replace(to_replace='< 1 year', value='0', regex=True, inplace=True)\n",
        "dfTrain['emp_length'].replace(to_replace=' year', value='', regex=True, inplace=True)\n",
        "\n",
        "dfTrain['emp_length'] = pd.to_numeric(dfTrain['emp_length'], errors='coerce')\n"
      ],
      "execution_count": 30,
      "outputs": [
        {
          "output_type": "stream",
          "text": [
            "Transform: emp_length...\n"
          ],
          "name": "stdout"
        }
      ]
    },
    {
      "cell_type": "code",
      "metadata": {
        "id": "H_SixVz4suNW",
        "colab_type": "code",
        "colab": {
          "base_uri": "https://localhost:8080/",
          "height": 34
        },
        "outputId": "6be13841-1660-432b-e912-b860a876f839"
      },
      "source": [
        "print('Transform: last_week_pay...')\n",
        "dfTrain['last_week_pay'].replace(to_replace='th week', value='', regex=True, inplace=True)\n",
        "dfTrain['last_week_pay'].replace(to_replace='NA', value='', regex=True, inplace=True)\n",
        "dfTrain['last_week_pay'] = pd.to_numeric(dfTrain['last_week_pay'], errors='coerce')\n"
      ],
      "execution_count": 31,
      "outputs": [
        {
          "output_type": "stream",
          "text": [
            "Transform: last_week_pay...\n"
          ],
          "name": "stdout"
        }
      ]
    },
    {
      "cell_type": "code",
      "metadata": {
        "id": "LKahBanMs3VE",
        "colab_type": "code",
        "colab": {
          "base_uri": "https://localhost:8080/",
          "height": 52
        },
        "outputId": "aafd9867-fc66-434b-8ec4-6ded685f6de3"
      },
      "source": [
        "print('Transform: sub_grade...')\n",
        "dfTrain['sub_grade'].replace(to_replace='A', value='0', regex=True, inplace=True)\n",
        "dfTrain['sub_grade'].replace(to_replace='B', value='1', regex=True, inplace=True)\n",
        "dfTrain['sub_grade'].replace(to_replace='C', value='2', regex=True, inplace=True)\n",
        "dfTrain['sub_grade'].replace(to_replace='D', value='3', regex=True, inplace=True)\n",
        "dfTrain['sub_grade'].replace(to_replace='E', value='4', regex=True, inplace=True)\n",
        "dfTrain['sub_grade'].replace(to_replace='F', value='5', regex=True, inplace=True)\n",
        "dfTrain['sub_grade'].replace(to_replace='G', value='6', regex=True, inplace=True)\n",
        "\n",
        "dfTrain['sub_grade'] = pd.to_numeric(dfTrain['sub_grade'], errors='coerce')\n",
        "\n",
        "print('Transform done.')"
      ],
      "execution_count": 32,
      "outputs": [
        {
          "output_type": "stream",
          "text": [
            "Transform: sub_grade...\n",
            "Transform done.\n"
          ],
          "name": "stdout"
        }
      ]
    },
    {
      "cell_type": "markdown",
      "metadata": {
        "id": "EK0YxnlKtMTN",
        "colab_type": "text"
      },
      "source": [
        "**Missing values imputation**"
      ]
    },
    {
      "cell_type": "code",
      "metadata": {
        "id": "38_A3fpOtAkO",
        "colab_type": "code",
        "colab": {
          "base_uri": "https://localhost:8080/",
          "height": 469
        },
        "outputId": "7fec6068-7822-45c4-f8a5-21b87159fbf9"
      },
      "source": [
        "cols = ['term', 'loan_amnt', 'funded_amnt', 'last_week_pay', 'int_rate', 'sub_grade', 'annual_inc', 'dti', 'mths_since_last_delinq', 'mths_since_last_record', 'open_acc', 'revol_bal', 'revol_util', 'total_acc', 'total_rec_int', 'mths_since_last_major_derog', 'tot_coll_amt', 'tot_cur_bal', 'total_rev_hi_lim', 'emp_length']\n",
        "for col in cols:\n",
        "    print('Imputation with Median: %s' % (col))\n",
        "    dfTrain[col].fillna(dfTrain[col].median(), inplace=True)\n",
        "\n",
        "cols = ['acc_now_delinq', 'total_rec_late_fee', 'recoveries', 'collection_recovery_fee', 'collections_12_mths_ex_med']\n",
        "for col in cols:\n",
        "    print('Imputation with Zero: %s' % (col))\n",
        "    dfTrain[col].fillna(0, inplace=True)\n",
        "\n",
        "print('Missing value imputation done.')"
      ],
      "execution_count": 34,
      "outputs": [
        {
          "output_type": "stream",
          "text": [
            "Imputation with Median: term\n",
            "Imputation with Median: loan_amnt\n",
            "Imputation with Median: funded_amnt\n",
            "Imputation with Median: last_week_pay\n",
            "Imputation with Median: int_rate\n",
            "Imputation with Median: sub_grade\n",
            "Imputation with Median: annual_inc\n",
            "Imputation with Median: dti\n",
            "Imputation with Median: mths_since_last_delinq\n",
            "Imputation with Median: mths_since_last_record\n",
            "Imputation with Median: open_acc\n",
            "Imputation with Median: revol_bal\n",
            "Imputation with Median: revol_util\n",
            "Imputation with Median: total_acc\n",
            "Imputation with Median: total_rec_int\n",
            "Imputation with Median: mths_since_last_major_derog\n",
            "Imputation with Median: tot_coll_amt\n",
            "Imputation with Median: tot_cur_bal\n",
            "Imputation with Median: total_rev_hi_lim\n",
            "Imputation with Median: emp_length\n",
            "Imputation with Zero: acc_now_delinq\n",
            "Imputation with Zero: total_rec_late_fee\n",
            "Imputation with Zero: recoveries\n",
            "Imputation with Zero: collection_recovery_fee\n",
            "Imputation with Zero: collections_12_mths_ex_med\n",
            "Missing value imputation done.\n"
          ],
          "name": "stdout"
        }
      ]
    },
    {
      "cell_type": "markdown",
      "metadata": {
        "id": "iYB6IXfKtngh",
        "colab_type": "text"
      },
      "source": [
        "**Feature Engineering**"
      ]
    },
    {
      "cell_type": "code",
      "metadata": {
        "id": "JgSYd7pYtl9O",
        "colab_type": "code",
        "colab": {
          "base_uri": "https://localhost:8080/",
          "height": 121
        },
        "outputId": "13a44690-7f27-46d0-9d11-624b7468b289"
      },
      "source": [
        "train_target = pd.DataFrame(dfTrain['loan_status'])\n",
        "\n",
        "selected_cols = ['member_id', 'emp_length', 'loan_amnt', 'funded_amnt', 'funded_amnt_inv', 'sub_grade', 'int_rate', \n",
        "                 'annual_inc', 'dti', 'mths_since_last_delinq', 'mths_since_last_record', 'open_acc', 'revol_bal', \n",
        "                 'revol_util', 'total_acc', 'total_rec_int', 'total_rec_late_fee', 'mths_since_last_major_derog', \n",
        "                 'last_week_pay', 'tot_cur_bal', 'total_rev_hi_lim', 'tot_coll_amt', 'recoveries', 'collection_recovery_fee',\n",
        "                 'term', 'acc_now_delinq', 'collections_12_mths_ex_med']\n",
        "finalTrain = dfTrain[selected_cols]\n",
        "\n",
        "# How big the loan a person has taken with respect to his earnings, annual income to loan amount ratio\n",
        "finalTrain['loan_to_income'] = finalTrain['annual_inc']/finalTrain['funded_amnt_inv']"
      ],
      "execution_count": 40,
      "outputs": [
        {
          "output_type": "stream",
          "text": [
            "/usr/local/lib/python3.6/dist-packages/ipykernel_launcher.py:11: SettingWithCopyWarning: \n",
            "A value is trying to be set on a copy of a slice from a DataFrame.\n",
            "Try using .loc[row_indexer,col_indexer] = value instead\n",
            "\n",
            "See the caveats in the documentation: http://pandas.pydata.org/pandas-docs/stable/user_guide/indexing.html#returning-a-view-versus-a-copy\n",
            "  # This is added back by InteractiveShellApp.init_path()\n"
          ],
          "name": "stderr"
        }
      ]
    },
    {
      "cell_type": "code",
      "metadata": {
        "id": "yUsl-3Y5tZdq",
        "colab_type": "code",
        "colab": {
          "base_uri": "https://localhost:8080/",
          "height": 121
        },
        "outputId": "871043d6-f9b5-4a57-d500-882e299095b1"
      },
      "source": [
        "finalTrain['bad_state'] = finalTrain['acc_now_delinq'] + (finalTrain['total_rec_late_fee']/finalTrain['funded_amnt_inv']) + (finalTrain['recoveries']/finalTrain['funded_amnt_inv']) + (finalTrain['collection_recovery_fee']/finalTrain['funded_amnt_inv']) + (finalTrain['collections_12_mths_ex_med']/finalTrain['funded_amnt_inv'])"
      ],
      "execution_count": 42,
      "outputs": [
        {
          "output_type": "stream",
          "text": [
            "/usr/local/lib/python3.6/dist-packages/ipykernel_launcher.py:1: SettingWithCopyWarning: \n",
            "A value is trying to be set on a copy of a slice from a DataFrame.\n",
            "Try using .loc[row_indexer,col_indexer] = value instead\n",
            "\n",
            "See the caveats in the documentation: http://pandas.pydata.org/pandas-docs/stable/user_guide/indexing.html#returning-a-view-versus-a-copy\n",
            "  \"\"\"Entry point for launching an IPython kernel.\n"
          ],
          "name": "stderr"
        }
      ]
    },
    {
      "cell_type": "code",
      "metadata": {
        "id": "PRr_xE88u5yj",
        "colab_type": "code",
        "colab": {
          "base_uri": "https://localhost:8080/",
          "height": 121
        },
        "outputId": "90b847d1-6dfd-4d04-b903-2ee1f8a0a59f"
      },
      "source": [
        "# a benifit of including above computations\n",
        "finalTrain.loc[finalTrain['bad_state'] > 0, 'bad_state'] = 1"
      ],
      "execution_count": 47,
      "outputs": [
        {
          "output_type": "stream",
          "text": [
            "/usr/local/lib/python3.6/dist-packages/pandas/core/indexing.py:494: SettingWithCopyWarning: \n",
            "A value is trying to be set on a copy of a slice from a DataFrame.\n",
            "Try using .loc[row_indexer,col_indexer] = value instead\n",
            "\n",
            "See the caveats in the documentation: http://pandas.pydata.org/pandas-docs/stable/user_guide/indexing.html#returning-a-view-versus-a-copy\n",
            "  self.obj[item] = s\n"
          ],
          "name": "stderr"
        }
      ]
    },
    {
      "cell_type": "code",
      "metadata": {
        "id": "iTbCxcOfu5uF",
        "colab_type": "code",
        "colab": {
          "base_uri": "https://localhost:8080/",
          "height": 121
        },
        "outputId": "8924b8cb-d388-4fe0-e4de-cc9ffbe46cb1"
      },
      "source": [
        "# Total number of available/unused 'credit lines'\n",
        "finalTrain['avl_lines'] = finalTrain['total_acc'] - finalTrain['open_acc']"
      ],
      "execution_count": 46,
      "outputs": [
        {
          "output_type": "stream",
          "text": [
            "/usr/local/lib/python3.6/dist-packages/ipykernel_launcher.py:1: SettingWithCopyWarning: \n",
            "A value is trying to be set on a copy of a slice from a DataFrame.\n",
            "Try using .loc[row_indexer,col_indexer] = value instead\n",
            "\n",
            "See the caveats in the documentation: http://pandas.pydata.org/pandas-docs/stable/user_guide/indexing.html#returning-a-view-versus-a-copy\n",
            "  \"\"\"Entry point for launching an IPython kernel.\n"
          ],
          "name": "stderr"
        }
      ]
    },
    {
      "cell_type": "code",
      "metadata": {
        "id": "GAT4NfIru5oL",
        "colab_type": "code",
        "colab": {
          "base_uri": "https://localhost:8080/",
          "height": 121
        },
        "outputId": "ec963885-4227-4fd8-ad0a-673ef305f098"
      },
      "source": [
        "# Interest paid so far\n",
        "finalTrain['int_paid'] = finalTrain['total_rec_int'] + finalTrain['total_rec_late_fee']"
      ],
      "execution_count": 45,
      "outputs": [
        {
          "output_type": "stream",
          "text": [
            "/usr/local/lib/python3.6/dist-packages/ipykernel_launcher.py:1: SettingWithCopyWarning: \n",
            "A value is trying to be set on a copy of a slice from a DataFrame.\n",
            "Try using .loc[row_indexer,col_indexer] = value instead\n",
            "\n",
            "See the caveats in the documentation: http://pandas.pydata.org/pandas-docs/stable/user_guide/indexing.html#returning-a-view-versus-a-copy\n",
            "  \"\"\"Entry point for launching an IPython kernel.\n"
          ],
          "name": "stderr"
        }
      ]
    },
    {
      "cell_type": "code",
      "metadata": {
        "id": "xqAUmMS8u5ik",
        "colab_type": "code",
        "colab": {
          "base_uri": "https://localhost:8080/",
          "height": 121
        },
        "outputId": "716d8dc1-2051-4cc2-9eb2-87f8668f09b0"
      },
      "source": [
        "# Calculating EMIs paid (in terms of percent)\n",
        "finalTrain['emi_paid_progress_perc'] = ((finalTrain['last_week_pay']/(finalTrain['term']/12*52+1))*100)"
      ],
      "execution_count": 48,
      "outputs": [
        {
          "output_type": "stream",
          "text": [
            "/usr/local/lib/python3.6/dist-packages/ipykernel_launcher.py:1: SettingWithCopyWarning: \n",
            "A value is trying to be set on a copy of a slice from a DataFrame.\n",
            "Try using .loc[row_indexer,col_indexer] = value instead\n",
            "\n",
            "See the caveats in the documentation: http://pandas.pydata.org/pandas-docs/stable/user_guide/indexing.html#returning-a-view-versus-a-copy\n",
            "  \"\"\"Entry point for launching an IPython kernel.\n"
          ],
          "name": "stderr"
        }
      ]
    },
    {
      "cell_type": "code",
      "metadata": {
        "id": "npUdxTRVvORL",
        "colab_type": "code",
        "colab": {
          "base_uri": "https://localhost:8080/",
          "height": 121
        },
        "outputId": "98ba5b9f-8677-4e0e-98cb-a185e5b1eb2f"
      },
      "source": [
        "# Calculating total repayments received so far, in terms of EMI or recoveries after charge off\n",
        "finalTrain['total_repayment_progress'] = ((finalTrain['last_week_pay']/(finalTrain['term']/12*52+1))*100) + ((finalTrain['recoveries']/finalTrain['funded_amnt_inv']) * 100)"
      ],
      "execution_count": 49,
      "outputs": [
        {
          "output_type": "stream",
          "text": [
            "/usr/local/lib/python3.6/dist-packages/ipykernel_launcher.py:1: SettingWithCopyWarning: \n",
            "A value is trying to be set on a copy of a slice from a DataFrame.\n",
            "Try using .loc[row_indexer,col_indexer] = value instead\n",
            "\n",
            "See the caveats in the documentation: http://pandas.pydata.org/pandas-docs/stable/user_guide/indexing.html#returning-a-view-versus-a-copy\n",
            "  \"\"\"Entry point for launching an IPython kernel.\n"
          ],
          "name": "stderr"
        }
      ]
    },
    {
      "cell_type": "markdown",
      "metadata": {
        "id": "XQHuuYcnvkf7",
        "colab_type": "text"
      },
      "source": [
        "**Split data set into train-test-cv**"
      ]
    },
    {
      "cell_type": "code",
      "metadata": {
        "id": "NPdf5lmkvOMK",
        "colab_type": "code",
        "colab": {}
      },
      "source": [
        "# Split train and cross validation sets\n",
        "X_train, X_test, y_train, y_test = train_test_split(np.array(finalTrain), np.array(train_target), test_size=0.30)\n",
        "eval_set=[(X_test, y_test)]"
      ],
      "execution_count": 0,
      "outputs": []
    },
    {
      "cell_type": "code",
      "metadata": {
        "id": "fT5PWrLSvOGX",
        "colab_type": "code",
        "colab": {
          "base_uri": "https://localhost:8080/",
          "height": 1000
        },
        "outputId": "96142689-ee72-4c1e-b355-cebbee3ce5e2"
      },
      "source": [
        "print('Initializing xgboost.sklearn.XGBClassifier and starting training...')\n",
        "\n",
        "st = datetime.now()\n",
        "\n",
        "clf = xgboost.sklearn.XGBClassifier(\n",
        "    objective=\"binary:logistic\", \n",
        "    learning_rate=0.05, \n",
        "    seed=9616, \n",
        "    max_depth=20, \n",
        "    gamma=10, \n",
        "    n_estimators=500)\n",
        "\n",
        "clf.fit(X_train, y_train, early_stopping_rounds=20, eval_metric=\"auc\", eval_set=eval_set, verbose=True)\n",
        "\n",
        "print(datetime.now()-st)\n",
        "\n",
        "y_pred = clf.predict(X_test)"
      ],
      "execution_count": 53,
      "outputs": [
        {
          "output_type": "stream",
          "text": [
            "Initializing xgboost.sklearn.XGBClassifier and starting training...\n"
          ],
          "name": "stdout"
        },
        {
          "output_type": "stream",
          "text": [
            "/usr/local/lib/python3.6/dist-packages/sklearn/preprocessing/_label.py:235: DataConversionWarning: A column-vector y was passed when a 1d array was expected. Please change the shape of y to (n_samples, ), for example using ravel().\n",
            "  y = column_or_1d(y, warn=True)\n",
            "/usr/local/lib/python3.6/dist-packages/sklearn/preprocessing/_label.py:268: DataConversionWarning: A column-vector y was passed when a 1d array was expected. Please change the shape of y to (n_samples, ), for example using ravel().\n",
            "  y = column_or_1d(y, warn=True)\n"
          ],
          "name": "stderr"
        },
        {
          "output_type": "stream",
          "text": [
            "[0]\tvalidation_0-auc:0.961571\n",
            "Will train until validation_0-auc hasn't improved in 20 rounds.\n",
            "[1]\tvalidation_0-auc:0.963735\n",
            "[2]\tvalidation_0-auc:0.964013\n",
            "[3]\tvalidation_0-auc:0.964667\n",
            "[4]\tvalidation_0-auc:0.966891\n",
            "[5]\tvalidation_0-auc:0.967207\n",
            "[6]\tvalidation_0-auc:0.967583\n",
            "[7]\tvalidation_0-auc:0.968338\n",
            "[8]\tvalidation_0-auc:0.96859\n",
            "[9]\tvalidation_0-auc:0.9692\n",
            "[10]\tvalidation_0-auc:0.970337\n",
            "[11]\tvalidation_0-auc:0.970459\n",
            "[12]\tvalidation_0-auc:0.970567\n",
            "[13]\tvalidation_0-auc:0.970735\n",
            "[14]\tvalidation_0-auc:0.970831\n",
            "[15]\tvalidation_0-auc:0.970929\n",
            "[16]\tvalidation_0-auc:0.971096\n",
            "[17]\tvalidation_0-auc:0.971161\n",
            "[18]\tvalidation_0-auc:0.971205\n",
            "[19]\tvalidation_0-auc:0.971235\n",
            "[20]\tvalidation_0-auc:0.971274\n",
            "[21]\tvalidation_0-auc:0.971353\n",
            "[22]\tvalidation_0-auc:0.971302\n",
            "[23]\tvalidation_0-auc:0.971396\n",
            "[24]\tvalidation_0-auc:0.971333\n",
            "[25]\tvalidation_0-auc:0.971378\n",
            "[26]\tvalidation_0-auc:0.971432\n",
            "[27]\tvalidation_0-auc:0.971462\n",
            "[28]\tvalidation_0-auc:0.971663\n",
            "[29]\tvalidation_0-auc:0.971686\n",
            "[30]\tvalidation_0-auc:0.971695\n",
            "[31]\tvalidation_0-auc:0.971858\n",
            "[32]\tvalidation_0-auc:0.971891\n",
            "[33]\tvalidation_0-auc:0.972014\n",
            "[34]\tvalidation_0-auc:0.971937\n",
            "[35]\tvalidation_0-auc:0.971997\n",
            "[36]\tvalidation_0-auc:0.971993\n",
            "[37]\tvalidation_0-auc:0.971957\n",
            "[38]\tvalidation_0-auc:0.971913\n",
            "[39]\tvalidation_0-auc:0.972021\n",
            "[40]\tvalidation_0-auc:0.972056\n",
            "[41]\tvalidation_0-auc:0.972133\n",
            "[42]\tvalidation_0-auc:0.972184\n",
            "[43]\tvalidation_0-auc:0.972316\n",
            "[44]\tvalidation_0-auc:0.972354\n",
            "[45]\tvalidation_0-auc:0.972442\n",
            "[46]\tvalidation_0-auc:0.972473\n",
            "[47]\tvalidation_0-auc:0.972444\n",
            "[48]\tvalidation_0-auc:0.972498\n",
            "[49]\tvalidation_0-auc:0.972536\n",
            "[50]\tvalidation_0-auc:0.972559\n",
            "[51]\tvalidation_0-auc:0.972573\n",
            "[52]\tvalidation_0-auc:0.972555\n",
            "[53]\tvalidation_0-auc:0.97249\n",
            "[54]\tvalidation_0-auc:0.972497\n",
            "[55]\tvalidation_0-auc:0.972564\n",
            "[56]\tvalidation_0-auc:0.972546\n",
            "[57]\tvalidation_0-auc:0.972628\n",
            "[58]\tvalidation_0-auc:0.972694\n",
            "[59]\tvalidation_0-auc:0.972724\n",
            "[60]\tvalidation_0-auc:0.972741\n",
            "[61]\tvalidation_0-auc:0.972795\n",
            "[62]\tvalidation_0-auc:0.972779\n",
            "[63]\tvalidation_0-auc:0.972785\n",
            "[64]\tvalidation_0-auc:0.972815\n",
            "[65]\tvalidation_0-auc:0.972825\n",
            "[66]\tvalidation_0-auc:0.972841\n",
            "[67]\tvalidation_0-auc:0.972821\n",
            "[68]\tvalidation_0-auc:0.972892\n",
            "[69]\tvalidation_0-auc:0.972893\n",
            "[70]\tvalidation_0-auc:0.972915\n",
            "[71]\tvalidation_0-auc:0.972963\n",
            "[72]\tvalidation_0-auc:0.972975\n",
            "[73]\tvalidation_0-auc:0.972991\n",
            "[74]\tvalidation_0-auc:0.972992\n",
            "[75]\tvalidation_0-auc:0.972992\n",
            "[76]\tvalidation_0-auc:0.972991\n",
            "[77]\tvalidation_0-auc:0.973\n",
            "[78]\tvalidation_0-auc:0.973038\n",
            "[79]\tvalidation_0-auc:0.973037\n",
            "[80]\tvalidation_0-auc:0.973003\n",
            "[81]\tvalidation_0-auc:0.973028\n",
            "[82]\tvalidation_0-auc:0.973052\n",
            "[83]\tvalidation_0-auc:0.973047\n",
            "[84]\tvalidation_0-auc:0.973101\n",
            "[85]\tvalidation_0-auc:0.973091\n",
            "[86]\tvalidation_0-auc:0.973116\n",
            "[87]\tvalidation_0-auc:0.973126\n",
            "[88]\tvalidation_0-auc:0.973155\n",
            "[89]\tvalidation_0-auc:0.973169\n",
            "[90]\tvalidation_0-auc:0.973195\n",
            "[91]\tvalidation_0-auc:0.973205\n",
            "[92]\tvalidation_0-auc:0.973193\n",
            "[93]\tvalidation_0-auc:0.973265\n",
            "[94]\tvalidation_0-auc:0.973266\n",
            "[95]\tvalidation_0-auc:0.973278\n",
            "[96]\tvalidation_0-auc:0.973291\n",
            "[97]\tvalidation_0-auc:0.973295\n",
            "[98]\tvalidation_0-auc:0.973343\n",
            "[99]\tvalidation_0-auc:0.973353\n",
            "[100]\tvalidation_0-auc:0.973356\n",
            "[101]\tvalidation_0-auc:0.973379\n",
            "[102]\tvalidation_0-auc:0.973408\n",
            "[103]\tvalidation_0-auc:0.973417\n",
            "[104]\tvalidation_0-auc:0.973417\n",
            "[105]\tvalidation_0-auc:0.973442\n",
            "[106]\tvalidation_0-auc:0.973454\n",
            "[107]\tvalidation_0-auc:0.973465\n",
            "[108]\tvalidation_0-auc:0.973472\n",
            "[109]\tvalidation_0-auc:0.973484\n",
            "[110]\tvalidation_0-auc:0.973499\n",
            "[111]\tvalidation_0-auc:0.973505\n",
            "[112]\tvalidation_0-auc:0.973514\n",
            "[113]\tvalidation_0-auc:0.97352\n",
            "[114]\tvalidation_0-auc:0.973523\n",
            "[115]\tvalidation_0-auc:0.973536\n",
            "[116]\tvalidation_0-auc:0.973528\n",
            "[117]\tvalidation_0-auc:0.973528\n",
            "[118]\tvalidation_0-auc:0.973528\n",
            "[119]\tvalidation_0-auc:0.973528\n",
            "[120]\tvalidation_0-auc:0.973528\n",
            "[121]\tvalidation_0-auc:0.973528\n",
            "[122]\tvalidation_0-auc:0.973528\n",
            "[123]\tvalidation_0-auc:0.973528\n",
            "[124]\tvalidation_0-auc:0.973528\n",
            "[125]\tvalidation_0-auc:0.973528\n",
            "[126]\tvalidation_0-auc:0.973528\n",
            "[127]\tvalidation_0-auc:0.973528\n",
            "[128]\tvalidation_0-auc:0.973528\n",
            "[129]\tvalidation_0-auc:0.973528\n",
            "[130]\tvalidation_0-auc:0.973528\n",
            "[131]\tvalidation_0-auc:0.973528\n",
            "[132]\tvalidation_0-auc:0.973528\n",
            "[133]\tvalidation_0-auc:0.973528\n",
            "[134]\tvalidation_0-auc:0.973528\n",
            "[135]\tvalidation_0-auc:0.973528\n",
            "Stopping. Best iteration:\n",
            "[115]\tvalidation_0-auc:0.973536\n",
            "\n",
            "0:00:59.401028\n"
          ],
          "name": "stdout"
        }
      ]
    },
    {
      "cell_type": "code",
      "metadata": {
        "id": "Vq-Y16K3vN_0",
        "colab_type": "code",
        "colab": {
          "base_uri": "https://localhost:8080/",
          "height": 34
        },
        "outputId": "13002f61-8596-4266-9983-0baabc8b4d99"
      },
      "source": [
        "accuracy = accuracy_score(np.array(y_test).flatten(), y_pred)\n",
        "print(\"Accuracy: %.10f%%\" % (accuracy * 100.0))"
      ],
      "execution_count": 54,
      "outputs": [
        {
          "output_type": "stream",
          "text": [
            "Accuracy: 93.7656250000%\n"
          ],
          "name": "stdout"
        }
      ]
    },
    {
      "cell_type": "code",
      "metadata": {
        "id": "HeEvSvCjvN2X",
        "colab_type": "code",
        "colab": {
          "base_uri": "https://localhost:8080/",
          "height": 34
        },
        "outputId": "f34a8590-bdb4-49fa-8b91-5c74a3d9e9fe"
      },
      "source": [
        "accuracy_per_roc_auc = roc_auc_score(np.array(y_test).flatten(), y_pred)\n",
        "print(\"ROC-AUC: %.10f%%\" % (accuracy_per_roc_auc * 100))"
      ],
      "execution_count": 55,
      "outputs": [
        {
          "output_type": "stream",
          "text": [
            "ROC-AUC: 91.8841339474%\n"
          ],
          "name": "stdout"
        }
      ]
    },
    {
      "cell_type": "markdown",
      "metadata": {
        "id": "ebooi2Yoz521",
        "colab_type": "text"
      },
      "source": [
        "**Graph Representation**"
      ]
    },
    {
      "cell_type": "code",
      "metadata": {
        "id": "_Fri1Z-Az0HR",
        "colab_type": "code",
        "colab": {
          "base_uri": "https://localhost:8080/",
          "height": 942
        },
        "outputId": "7c5d6198-afde-4805-8ffd-5b7f96c59e00"
      },
      "source": [
        "import matplotlib.pyplot as plt\n",
        "print(clf.feature_importances_)\n",
        "idx = 0\n",
        "for x in list(finalTrain):\n",
        "    print('%d %s' % (idx, x))\n",
        "    idx = idx + 1\n",
        "plt.bar(range(len(clf.feature_importances_)), clf.feature_importances_)\n",
        "plt.show()"
      ],
      "execution_count": 66,
      "outputs": [
        {
          "output_type": "stream",
          "text": [
            "[0.13686    0.0119515  0.01212129 0.01074228 0.01200688 0.01946365\n",
            " 0.01757509 0.01253522 0.0182662  0.01049345 0.01022799 0.0124944\n",
            " 0.01226452 0.01254276 0.00997577 0.01541639 0.01632173 0.00934335\n",
            " 0.1215123  0.01297252 0.01238393 0.00805028 0.28066838 0.\n",
            " 0.04973375 0.         0.01045236 0.01445328 0.05288033 0.01271621\n",
            " 0.01595756 0.02740046 0.02021611]\n",
            "0 member_id\n",
            "1 emp_length\n",
            "2 loan_amnt\n",
            "3 funded_amnt\n",
            "4 funded_amnt_inv\n",
            "5 sub_grade\n",
            "6 int_rate\n",
            "7 annual_inc\n",
            "8 dti\n",
            "9 mths_since_last_delinq\n",
            "10 mths_since_last_record\n",
            "11 open_acc\n",
            "12 revol_bal\n",
            "13 revol_util\n",
            "14 total_acc\n",
            "15 total_rec_int\n",
            "16 total_rec_late_fee\n",
            "17 mths_since_last_major_derog\n",
            "18 last_week_pay\n",
            "19 tot_cur_bal\n",
            "20 total_rev_hi_lim\n",
            "21 tot_coll_amt\n",
            "22 recoveries\n",
            "23 collection_recovery_fee\n",
            "24 term\n",
            "25 acc_now_delinq\n",
            "26 collections_12_mths_ex_med\n",
            "27 loan_to_income\n",
            "28 bad_state\n",
            "29 avl_lines\n",
            "30 int_paid\n",
            "31 emi_paid_progress_perc\n",
            "32 total_repayment_progress\n"
          ],
          "name": "stdout"
        },
        {
          "output_type": "display_data",
          "data": {
            "image/png": "[encoded data removed]",
            "text/plain": [
              "<Figure size 432x288 with 1 Axes>"
            ]
          },
          "metadata": {
            "tags": []
          }
        }
      ]
    },
    {
      "cell_type": "code",
      "metadata": {
        "id": "-hoNNobxy1Nf",
        "colab_type": "code",
        "colab": {
          "base_uri": "https://localhost:8080/",
          "height": 294
        },
        "outputId": "d9cda05c-f435-4d0e-9d25-c16eb4adeae4"
      },
      "source": [
        "colors = [\"#3791D7\", \"#D72626\"]\n",
        "labels =\"Good Loans\", \"Bad Loans\"\n",
        "\n",
        "dfTrain[\"loan_status\"].value_counts().plot.pie(explode=[0,0.25], autopct='%1.2f%%', shadow=True, colors=colors, \n",
        "                                             labels=labels, fontsize=20, startangle=70)\n",
        "plt.suptitle('Loan status', fontsize=20)\n"
      ],
      "execution_count": 67,
      "outputs": [
        {
          "output_type": "execute_result",
          "data": {
            "text/plain": [
              "Text(0.5, 0.98, 'Loan status')"
            ]
          },
          "metadata": {
            "tags": []
          },
          "execution_count": 67
        },
        {
          "output_type": "display_data",
          "data": {
            "image/png": "[encoded data removed]",
            "text/plain": [
              "<Figure size 432x288 with 1 Axes>"
            ]
          },
          "metadata": {
            "tags": []
          }
        }
      ]
    },
    {
      "cell_type": "code",
      "metadata": {
        "id": "2peMrs5uu5Ze",
        "colab_type": "code",
        "colab": {
          "base_uri": "https://localhost:8080/",
          "height": 281
        },
        "outputId": "91b85631-6151-484c-b012-678cc8da92e2"
      },
      "source": [
        "dfTrain['loan_status'].value_counts().plot(kind= 'barh', color = 'orange', title = 'Possible Loan Status', alpha = 0.75)\n",
        "plt.show()"
      ],
      "execution_count": 68,
      "outputs": [
        {
          "output_type": "display_data",
          "data": {
            "image/png": "[encoded data removed]",
            "text/plain": [
              "<Figure size 432x288 with 1 Axes>"
            ]
          },
          "metadata": {
            "tags": []
          }
        }
      ]
    },
    {
      "cell_type": "code",
      "metadata": {
        "id": "WdVI9LH-oFkv",
        "colab_type": "code",
        "colab": {}
      },
      "source": [
        ""
      ],
      "execution_count": 0,
      "outputs": []
    },
    {
      "cell_type": "code",
      "metadata": {
        "id": "El4eEh_IoIwO",
        "colab_type": "code",
        "colab": {}
      },
      "source": [
        ""
      ],
      "execution_count": 0,
      "outputs": []
    }
  ]
}